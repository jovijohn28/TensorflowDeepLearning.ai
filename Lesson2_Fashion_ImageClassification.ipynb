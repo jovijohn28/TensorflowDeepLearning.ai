{
  "nbformat": 4,
  "nbformat_minor": 0,
  "metadata": {
    "colab": {
      "name": "Untitled1.ipynb",
      "version": "0.3.2",
      "provenance": []
    },
    "kernelspec": {
      "name": "python3",
      "display_name": "Python 3"
    }
  },
  "cells": [
    {
      "cell_type": "code",
      "metadata": {
        "id": "LH2UNIWHEJUU",
        "colab_type": "code",
        "colab": {
          "base_uri": "https://localhost:8080/",
          "height": 202
        },
        "outputId": "b161a310-ad0e-4398-87c8-09c133178867"
      },
      "source": [
        "import tensorflow as tf\n",
        "print(tf.__version__)\n",
        "\n",
        "\n",
        "from tensorflow import keras\n",
        "\n",
        "class myCallback(tf.keras.callbacks.Callback):\n",
        "  def on_epoch_end(self,epoch,logs={}):\n",
        "    if(logs.get('loss')<0.4):\n",
        "      print('\\nReached 60% accuracy, so stopping training')\n",
        "      self.model.stop_training=True\n",
        "\n",
        "callbacks=myCallback()\n",
        "mnist=tf.keras.datasets.fashion_mnist\n",
        "(training_images,training_labels),(testing_images,testing_labels)=mnist.load_data()\n",
        "training_images=training_images/255.0\n",
        "testing_images=testing_images/255.0\n",
        "model=tf.keras.models.Sequential([\n",
        "  tf.keras.layers.Flatten(),\n",
        "  tf.keras.layers.Dense(512,activation=tf.nn.relu),\n",
        "  tf.keras.layers.Dense(10,activation=tf.nn.softmax),\n",
        "])\n",
        "model.compile(optimizer='adam',loss='sparse_categorical_crossentropy')\n",
        "model.fit(training_images,training_labels,epochs=5,callbacks=[callbacks])\n",
        "model.evaluate(testing_images,testing_labels)\n",
        "classification=model.predict(testing_images)\n",
        "print(classification[34])\n",
        "print(testing_labels[34])"
      ],
      "execution_count": 7,
      "outputs": [
        {
          "output_type": "stream",
          "text": [
            "1.14.0\n",
            "Epoch 1/5\n",
            "60000/60000 [==============================] - 7s 119us/sample - loss: 0.4749\n",
            "Epoch 2/5\n",
            "59968/60000 [============================>.] - ETA: 0s - loss: 0.3576\n",
            "Reached 60% accuracy, so stopping training\n",
            "60000/60000 [==============================] - 7s 118us/sample - loss: 0.3577\n",
            "10000/10000 [==============================] - 1s 53us/sample - loss: 0.3774\n",
            "[1.5835964e-06 1.6368275e-11 7.9904027e-08 1.5963440e-08 2.5268829e-08\n",
            " 2.4898921e-07 3.5806980e-09 1.5220303e-09 9.9999809e-01 8.0987696e-13]\n",
            "8\n"
          ],
          "name": "stdout"
        }
      ]
    }
  ]
}